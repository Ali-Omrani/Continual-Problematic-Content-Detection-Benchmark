{
 "cells": [
  {
   "cell_type": "markdown",
   "id": "a25cd4e2-89ae-4131-be3b-6145bb6c79d8",
   "metadata": {},
   "source": [
    "# GAB Corpus"
   ]
  },
  {
   "cell_type": "code",
   "execution_count": null,
   "id": "f852055f-30f1-4f19-9c78-cb6dc256b3ed",
   "metadata": {},
   "outputs": [],
   "source": [
    "import pandas as pd \n",
    "pd.read_csv('./Data/GHC/GabHateCorpus_annotations.tsv', sep='\\t', header=0)"
   ]
  },
  {
   "cell_type": "code",
   "execution_count": null,
   "id": "12646984-03b0-40f5-a53b-b49aa5b9a528",
   "metadata": {},
   "outputs": [],
   "source": [
    "ghc_train = pd.read_csv('./Data/GHC/ghc_train.tsv', sep='\\t', header=0)\n",
    "ghc_train"
   ]
  },
  {
   "cell_type": "code",
   "execution_count": null,
   "id": "b105b166-d332-4541-9eb4-49d93589cb92",
   "metadata": {},
   "outputs": [],
   "source": [
    "ghc_train.to_csv('./Data/GHC/ghc_train.csv', index=False)"
   ]
  },
  {
   "cell_type": "code",
   "execution_count": null,
   "id": "c43d25de-123f-4f13-ae0d-487e1eacd19c",
   "metadata": {},
   "outputs": [],
   "source": [
    "df = pd.read_csv('./Data/GHC/ghc_train.csv')"
   ]
  },
  {
   "cell_type": "code",
   "execution_count": null,
   "id": "f7dcdfe2-778e-4a5b-bb05-e1fb29c91748",
   "metadata": {},
   "outputs": [],
   "source": [
    "ghc_train.sum()"
   ]
  },
  {
   "cell_type": "code",
   "execution_count": null,
   "id": "ad618b91-0eec-4167-9981-6ccc3add9730",
   "metadata": {},
   "outputs": [],
   "source": [
    "df = pd.read_csv('./Data/GHC/ghc_test.tsv', sep='\\t', header=0)\n",
    "df"
   ]
  },
  {
   "cell_type": "code",
   "execution_count": null,
   "id": "45b832a4-2c4c-4a4a-9318-ac56cde70084",
   "metadata": {},
   "outputs": [],
   "source": [
    "df['labels'] = df[['hd', 'cv', 'vo']].values.astype(float).tolist()"
   ]
  },
  {
   "cell_type": "code",
   "execution_count": null,
   "id": "a52f74dc-17ff-4ec9-ad1c-418fc3b17db0",
   "metadata": {},
   "outputs": [],
   "source": [
    "import numpy as np \n",
    "weights = np.array(df['labels'].tolist())\n",
    "\n",
    "weights.shape[0] / weights.sum(axis=0)"
   ]
  },
  {
   "cell_type": "code",
   "execution_count": null,
   "id": "2ae55ae1-8f47-4494-8f15-59782bdc7106",
   "metadata": {},
   "outputs": [],
   "source": [
    "weights.shape[0]"
   ]
  },
  {
   "cell_type": "code",
   "execution_count": null,
   "id": "871cf272-91c0-426d-8682-287bdd022c1b",
   "metadata": {},
   "outputs": [],
   "source": [
    "weights.sum(axis=0)"
   ]
  },
  {
   "cell_type": "code",
   "execution_count": null,
   "id": "f2b119bb-7956-40da-ae23-8fc8d12aacf7",
   "metadata": {},
   "outputs": [],
   "source": [
    "len(df)"
   ]
  },
  {
   "cell_type": "markdown",
   "id": "28a3de71-3caf-40a0-8d42-bf93166718ce",
   "metadata": {},
   "source": [
    "# parlai single"
   ]
  },
  {
   "cell_type": "code",
   "execution_count": null,
   "id": "6cf8c4d3-9a05-46fc-ae26-7a01ff081f33",
   "metadata": {},
   "outputs": [],
   "source": [
    "import pandas as pd"
   ]
  },
  {
   "cell_type": "code",
   "execution_count": null,
   "id": "71b59fd8-6ff0-4e99-a3cf-4e1364904277",
   "metadata": {},
   "outputs": [],
   "source": [
    "!parlai display_data -t dialogue_safety:standard --round 3"
   ]
  },
  {
   "cell_type": "code",
   "execution_count": null,
   "id": "7f76e9ef-8f12-494a-94bd-cfb3c7ff42d5",
   "metadata": {},
   "outputs": [],
   "source": [
    "!parlai display_data -t dialogue_safety:adversarial --round 3"
   ]
  },
  {
   "cell_type": "code",
   "execution_count": null,
   "id": "c48c1f55-73af-4f8e-bf58-742365ad28ce",
   "metadata": {},
   "outputs": [],
   "source": [
    "!parlai display_data -t dialogue_safety:multiturn"
   ]
  },
  {
   "cell_type": "code",
   "execution_count": null,
   "id": "04d2f958-c8dd-4d8d-bfda-e706dada8279",
   "metadata": {},
   "outputs": [],
   "source": [
    "!ls /home/aliz/.virtualenvs/nlp/lib/python3.10/site-packages/data/dialogue_safety/"
   ]
  },
  {
   "cell_type": "code",
   "execution_count": null,
   "id": "18f2371b-fe91-4982-9f00-25c6326e0cf0",
   "metadata": {},
   "outputs": [],
   "source": [
    "#!cp /home/aliz/.virtualenvs/nlp/lib/python3.10/site-packages/data/dialogue_safety/single_turn_safety.json ./Data/\n",
    "\n",
    "dialogue_safety_single_json = \"/home/aliz/.virtualenvs/nlp/lib/python3.10/site-packages/data/dialogue_safety/single_turn_safety.json\""
   ]
  },
  {
   "cell_type": "code",
   "execution_count": null,
   "id": "9f086766-fbf1-4558-9044-fdc40445d512",
   "metadata": {},
   "outputs": [],
   "source": [
    "import json \n",
    "def read_json_file(file):\n",
    "    with open(file, 'r') as f:\n",
    "        data = json.load(f)\n",
    "    return data\n",
    "\n",
    "def extract_split_csv(data):\n",
    "    splits_dataframe = dict()\n",
    "    for split, data_split in data.items():\n",
    "        temp = []\n",
    "        for _,d in data_split.items():\n",
    "            temp += d['bad'] + d['good'] \n",
    "        temp = pd.DataFrame(temp)\n",
    "        splits_dataframe[split] = temp\n",
    "    return splits_dataframe\n",
    "\n",
    "data = read_json_file(dialogue_safety_single_json)"
   ]
  },
  {
   "cell_type": "code",
   "execution_count": null,
   "id": "5832affd-f346-48e7-baaa-ec5bb3dece6d",
   "metadata": {},
   "outputs": [],
   "source": [
    "splits_standard_data = extract_split_csv(data['standard'])\n",
    "for k, df in splits_standard_data.items():\n",
    "    df.to_csv(f'./Data/parlai_single_standard/{k}.csv')"
   ]
  },
  {
   "cell_type": "code",
   "execution_count": null,
   "id": "9a184d21-affd-48d9-b01b-48bc16ecada5",
   "metadata": {},
   "outputs": [],
   "source": [
    "splits_standard_data = extract_split_csv(data['adversarial'])\n",
    "for k, df in splits_standard_data.items():\n",
    "    df.to_csv(f'./Data/parlai_single_adversarial/{k}.csv')"
   ]
  },
  {
   "cell_type": "code",
   "execution_count": null,
   "id": "d0cf8a9d-86b5-4c1c-920d-b392487a84ca",
   "metadata": {},
   "outputs": [],
   "source": [
    "dialogue_safety_multi_json = \"/home/aliz/.virtualenvs/nlp/lib/python3.10/site-packages/data/dialogue_safety/multi_turn_safety.json\"\n",
    "multi_data = read_json_file(dialogue_safety_multi_json)\n",
    "for split in multi_data.keys():\n",
    "    df = pd.DataFrame(multi_data[split])\n",
    "    df.to_csv(f'./Data/parlai_multi/{split}.csv')"
   ]
  },
  {
   "cell_type": "markdown",
   "id": "a581d845-4b23-4394-9375-9ab4a3ffda84",
   "metadata": {},
   "source": [
    "# Bot-Adversarial Dialogue"
   ]
  },
  {
   "cell_type": "code",
   "execution_count": null,
   "id": "0fee905c-8dd4-4063-a632-8b6746dcded0",
   "metadata": {},
   "outputs": [],
   "source": [
    "cp /home/aliz/.virtualenvs/nlp/lib/python3.10/site-packages/data/bot_adversarial_dialogue/dialogue_datasets/bot_adversarial_dialogue_datasets_with_persona/train.txt ./Data/"
   ]
  },
  {
   "cell_type": "code",
   "execution_count": null,
   "id": "038ff5a4-18b7-4c55-9a73-e8702168d5ed",
   "metadata": {},
   "outputs": [],
   "source": [
    "ls /home/aliz/.virtualenvs/nlp/lib/python3.10/site-packages/data/bot_adversarial_dialogue/dialogue_datasets/bot_adversarial_dialogue_datasets_with_persona/"
   ]
  },
  {
   "cell_type": "code",
   "execution_count": null,
   "id": "d308525d-4815-4f29-85b9-10d6b947a11c",
   "metadata": {},
   "outputs": [],
   "source": [
    "!parlai display_data -t bot_adversarial_dialogue --bad-include-persona False"
   ]
  },
  {
   "cell_type": "code",
   "execution_count": null,
   "id": "422f0a6c-ef16-4b1b-b427-72dc0ae3f765",
   "metadata": {},
   "outputs": [],
   "source": [
    "import pandqas as pd\n",
    "pd.read_csv(bad_folder + 'train.txt', sep=\"\\t\")\n"
   ]
  },
  {
   "cell_type": "code",
   "execution_count": null,
   "id": "d1d321c7-3792-4fe9-b9e0-de0edb2849b6",
   "metadata": {},
   "outputs": [],
   "source": [
    "import pandas as pd\n",
    "bad_folder = '/home/aliz/.virtualenvs/nlp/lib/python3.10/site-packages/data/bot_adversarial_dialogue/dialogue_datasets/bot_adversarial_dialogue_datasets_with_persona/'\n",
    "\n",
    "number_of_sentences = 2\n",
    "\n",
    "def read_bad_data(bad_folder, split):\n",
    "    bad_df = {\n",
    "        'text': [],\n",
    "        'labels': [],\n",
    "        'episode_done': [],\n",
    "        'speaker_to_eval': [],\n",
    "        'bot_persona': [],\n",
    "        # 'line_number': [],\n",
    "    }\n",
    "    with open(bad_folder + f'{split}.txt') as f:\n",
    "        lines = f.readlines()\n",
    "        pre_line = lines[0].split(\"\\t\")\n",
    "        for line_number, line in enumerate(lines):\n",
    "            line = line.split(\"\\t\")\n",
    "            # print(line[0])\n",
    "            # print(pre_line[0])\n",
    "            # print()\n",
    "            \n",
    "            if not line[0].startswith(pre_line[0]):\n",
    "                for i, k in enumerate(bad_df.keys()):\n",
    "                    bad_df[k].append(pre_line[i].split(k + \":\")[1])\n",
    "                # bad['line_number'].append(line_number)\n",
    "            \n",
    "            pre_line = line\n",
    "    bad_df = pd.DataFrame(bad_df)\n",
    "    return bad_df\n",
    "\n",
    "def select_sentences(text):\n",
    "    return \" \".join(text.split('\\\\n')[-1*number_of_sentences:])\n",
    "\n",
    "for split in ['train', 'test', 'valid']:\n",
    "    df = read_bad_data(bad_folder, split)\n",
    "    df['text'] = df.apply(lambda row : select_sentences(row['text']), axis = 1)\n",
    "    df.to_csv(f'./Data/BAD_{number_of_sentences}/{split}.csv')\n"
   ]
  },
  {
   "cell_type": "code",
   "execution_count": null,
   "id": "f155e368-4855-472a-9608-b22e35ccddfe",
   "metadata": {},
   "outputs": [],
   "source": [
    "df = read_bad_data(bad_folder, 'train')\n"
   ]
  },
  {
   "cell_type": "code",
   "execution_count": null,
   "id": "f478bee4-7fe5-4e90-823d-6ecc8ba5ae0a",
   "metadata": {},
   "outputs": [],
   "source": [
    "labels = df['labels'].unique().tolist()\n",
    "label2id = {label: i for i, label in enumerate(labels)}\n",
    "id2label = {i: label for i, label in enumerate(labels)}"
   ]
  },
  {
   "cell_type": "code",
   "execution_count": null,
   "id": "e8ccd935-ba05-4aa6-be90-3256f242b08a",
   "metadata": {},
   "outputs": [],
   "source": [
    "df.replace({\"labels\": label2id}).labels.sum()/5078\t"
   ]
  },
  {
   "cell_type": "code",
   "execution_count": null,
   "id": "83761eb9-9786-45cf-bbe4-318890b06b66",
   "metadata": {},
   "outputs": [],
   "source": [
    "df"
   ]
  },
  {
   "cell_type": "markdown",
   "id": "3a89621e",
   "metadata": {},
   "source": [
    "## CAD"
   ]
  },
  {
   "cell_type": "code",
   "execution_count": null,
   "id": "e99a87bb",
   "metadata": {},
   "outputs": [],
   "source": [
    "import pandas as pd \n",
    "def read_cad_data(file):\n",
    "    df = pd.read_csv(file, sep='\\t')\n",
    "    label_list = []\n",
    "    for v in df.labels.unique().tolist():\n",
    "        label_list += v.split(\",\")\n",
    "\n",
    "    label_list = list(set(label_list))\n",
    "    for v in label_list:\n",
    "        df[v.lower()] = 0\n",
    "    return df\n",
    "\n",
    "train_df = read_cad_data('./datasets/CAD/cad_v1_1_train.tsv')\n",
    "test_df = read_cad_data('./datasets/CAD/cad_v1_1_test.tsv')\n",
    "val_df = read_cad_data('./datasets/CAD/cad_v1_1_dev.tsv')"
   ]
  },
  {
   "cell_type": "code",
   "execution_count": null,
   "id": "a612f2f1",
   "metadata": {},
   "outputs": [],
   "source": [
    "def convert_label(row):\n",
    "    label = row['labels']\n",
    "    label_list = label.split(\",\")\n",
    "    for label in label_list:\n",
    "        row[label.lower()] = 1\n",
    "    return row\n",
    "\n",
    "train_df = train_df.apply(convert_label, axis=1)\n",
    "test_df = test_df.apply(convert_label, axis=1)\n",
    "val_df = val_df.apply(convert_label, axis=1)\n"
   ]
  },
  {
   "cell_type": "code",
   "execution_count": null,
   "id": "a106975d",
   "metadata": {},
   "outputs": [],
   "source": [
    "train_df.to_csv(\"./datasets/CAD/train.csv\", index=False)\n",
    "test_df.to_csv(\"./datasets/CAD/test.csv\", index=False)\n",
    "val_df.to_csv(\"./datasets/CAD/val.csv\", index=False)"
   ]
  },
  {
   "cell_type": "markdown",
   "id": "708f7ae2",
   "metadata": {},
   "source": [
    "# Misogyny"
   ]
  },
  {
   "cell_type": "code",
   "execution_count": null,
   "id": "96edd4f3",
   "metadata": {},
   "outputs": [],
   "source": [
    "df = pd.read_csv(\"./datasets/misogyny/final_labels.csv\")\n",
    "df"
   ]
  },
  {
   "cell_type": "code",
   "execution_count": null,
   "id": "87d33a21",
   "metadata": {},
   "outputs": [],
   "source": [
    "from sklearn.model_selection import train_test_split\n",
    "\n",
    "train_df, test_df = train_test_split(df, test_size=0.2, shuffle=True, random_state=42)\n",
    "val_df, test_df = train_test_split(test_df, test_size=0.5, shuffle=True, random_state=42)\n",
    "\n",
    "train_df.to_csv(\"./datasets/misogyny/train.csv\")\n",
    "test_df.to_csv(\"./datasets/misogyny/test.csv\")\n",
    "val_df.to_csv(\"./datasets/misogyny/val.csv\")"
   ]
  },
  {
   "cell_type": "markdown",
   "id": "ad6d52d2",
   "metadata": {},
   "source": [
    "# online harassment [DO NOT SHARE]"
   ]
  },
  {
   "cell_type": "code",
   "execution_count": null,
   "id": "264b8ee7",
   "metadata": {},
   "outputs": [],
   "source": [
    "df = pd.read_csv(\"./datasets/online_harassment/onlineHarassmentDataset.tdf\", sep='\\t', encoding = \"ISO-8859-1\", index_col='ID').reset_index(drop=True)\n",
    "df = df[['Code', 'Tweet']]\n",
    "df = df.rename(columns={'Code': 'label'})"
   ]
  },
  {
   "cell_type": "markdown",
   "id": "e25c0d09",
   "metadata": {},
   "source": [
    "train_df, test_df = train_test_split(df, test_size=0.2, shuffle=True, random_state=42)\n",
    "val_df, test_df = train_test_split(test_df, test_size=0.5, shuffle=True, random_state=42)\n",
    "\n",
    "train_df.to_csv(\"./datasets/online_harassment/train.csv\")\n",
    "test_df.to_csv(\"./datasets/online_harassment/test.csv\")\n",
    "val_df.to_csv(\"./datasets/online_harassment/val.csv\")"
   ]
  },
  {
   "cell_type": "markdown",
   "id": "987feb9c",
   "metadata": {},
   "source": [
    "# Abusive Behavior [DO NOT SHARE]"
   ]
  },
  {
   "cell_type": "code",
   "execution_count": null,
   "id": "7817cb9f",
   "metadata": {},
   "outputs": [],
   "source": [
    "df = pd.read_csv(\"./datasets/abusive_behavior/hatespeech_text_label_vote_RESTRICTED_100K.csv\", sep='\\t')"
   ]
  },
  {
   "cell_type": "code",
   "execution_count": null,
   "id": "8dc4a210",
   "metadata": {},
   "outputs": [],
   "source": [
    "train_df, test_df = train_test_split(df, test_size=0.2, shuffle=True, random_state=42)\n",
    "val_df, test_df = train_test_split(test_df, test_size=0.5, shuffle=True, random_state=42)\n",
    "train_df.to_csv(\"./datasets/abusive_behavior/train.csv\")\n",
    "test_df.to_csv(\"./datasets/abusive_behavior/test.csv\")\n",
    "val_df.to_csv(\"./datasets/abusive_behavior/val.csv\")"
   ]
  },
  {
   "cell_type": "markdown",
   "id": "d08b3941",
   "metadata": {},
   "source": [
    "# Cross Domain Hate speech detection [DO NOT SHARE]"
   ]
  },
  {
   "cell_type": "code",
   "execution_count": null,
   "id": "235ef34d",
   "metadata": {},
   "outputs": [],
   "source": [
    "df = pd.read_csv(\"./datasets/hate/Toraman22_hate_speech_v2.tsv\", sep='\\t')\n",
    "df = df[df.language == 1].reset_index(drop=False)\n",
    "df = df[['text', 'label']]\n",
    "\n",
    "label_map = {\n",
    "    0.0: 'normal',\n",
    "    1.0: 'offensive',\n",
    "    2.0: 'hateful'\n",
    "}\n",
    "df = df.replace({\"label\": label_map})"
   ]
  },
  {
   "cell_type": "code",
   "execution_count": null,
   "id": "98c81239",
   "metadata": {},
   "outputs": [],
   "source": [
    "train_df, test_df = train_test_split(df, test_size=0.2, shuffle=True, random_state=42)\n",
    "val_df, test_df = train_test_split(test_df, test_size=0.5, shuffle=True, random_state=42)\n",
    "\n",
    "train_df.to_csv(\"./datasets/hate/train.csv\")\n",
    "test_df.to_csv(\"./datasets/hate/test.csv\")\n",
    "val_df.to_csv(\"./datasets/hate/val.csv\")"
   ]
  },
  {
   "cell_type": "markdown",
   "id": "1b5320dd-45b9-498b-93f2-8db8a11361e4",
   "metadata": {},
   "source": [
    "## Personal Attacks"
   ]
  },
  {
   "cell_type": "code",
   "execution_count": null,
   "id": "26b83b93-3b74-44a8-8ce3-2880345ea783",
   "metadata": {},
   "outputs": [],
   "source": [
    "import pandas as pd\n",
    "df = pd.read_csv(\"data_utils/datasets/personal_attack/attack_annotated_comments.tsv\", sep=\"\\t\")\n",
    "df"
   ]
  },
  {
   "cell_type": "code",
   "execution_count": null,
   "id": "0daf0580-439a-4965-8ad1-cdbf6fd2615a",
   "metadata": {},
   "outputs": [],
   "source": [
    "df_ann = pd.read_csv(\"data_utils/datasets/personal_attack/attack_annotations.tsv\", sep=\"\\t\")\n",
    "df_ann.groupby(['rev_id']).count()\n",
    "df_ann"
   ]
  },
  {
   "cell_type": "code",
   "execution_count": null,
   "id": "5e881858-e018-453f-b4de-b503bba4ee7f",
   "metadata": {},
   "outputs": [],
   "source": [
    "import math\n",
    "\n",
    "\n",
    "def get_mv(row, col):\n",
    "    if row[col] >= math.ceil(row['worker_id']/2):\n",
    "        return 1\n",
    "    else:\n",
    "        return 0\n",
    "\n",
    "\n",
    "df_aggr = df_ann.groupby(['rev_id']).agg({\"worker_id\": \"count\", \"attack\": \"sum\", \"quoting_attack\": \"sum\",\n",
    "                                         \"recipient_attack\": \"sum\", \"third_party_attack\": \"sum\",\n",
    "                                          \"other_attack\": \"sum\"}).reset_index()\n",
    "df_aggr['a'] = df_aggr.apply(lambda x: get_mv(x, \"attack\"),  axis=1)\n",
    "df_aggr['qa'] = df_aggr.apply(\n",
    "    lambda x: get_mv(x, \"quoting_attack\"),  axis=1)\n",
    "df_aggr['ra'] = df_aggr.apply(\n",
    "    lambda x: get_mv(x, \"recipient_attack\"),  axis=1)\n",
    "df_aggr['tpa'] = df_aggr.apply(\n",
    "    lambda x: get_mv(x, \"third_party_attack\"),  axis=1)\n",
    "df_aggr['oa'] = df_aggr.apply(\n",
    "    lambda x: get_mv(x, \"other_attack\"),  axis=1)\n",
    "\n",
    "df_aggr = df_aggr.merge(df[['rev_id', 'comment', 'split']], on='rev_id')\n",
    "df_aggr = df_aggr[['rev_id', 'a', 'qa', 'ra', 'tpa', 'oa',\n",
    "       'comment', 'split']]"
   ]
  },
  {
   "cell_type": "code",
   "execution_count": null,
   "id": "2c12acba-b90a-4e2a-a3b6-317414da4fb6",
   "metadata": {},
   "outputs": [],
   "source": [
    "df_aggr.columns"
   ]
  },
  {
   "cell_type": "code",
   "execution_count": null,
   "id": "4c4abf25-0cdc-409e-a86c-087418e47a2b",
   "metadata": {},
   "outputs": [],
   "source": [
    "for split in ['train','dev', 'test']:\n",
    "    print(df_aggr[df_aggr['split']==split].shape)\n",
    "    df_aggr[df_aggr['split']==split].to_csv(f\"data_utils/datasets/personal_attack/{split}.csv\")"
   ]
  },
  {
   "cell_type": "code",
   "execution_count": null,
   "id": "b322a4af-04a7-49f7-852e-09eca5019c1d",
   "metadata": {},
   "outputs": [],
   "source": [
    "df_aggr['label'].value_counts()"
   ]
  },
  {
   "cell_type": "markdown",
   "id": "1e195f71-ed47-41f1-bed2-58e3850698ed",
   "metadata": {},
   "source": [
    "## CMSB"
   ]
  },
  {
   "cell_type": "code",
   "execution_count": null,
   "id": "f72bdc56-940b-4b0f-a71d-a5de4a1a4876",
   "metadata": {},
   "outputs": [],
   "source": [
    "import pandas as pd\n",
    "df = pd.read_csv(\"datasets/cmsb/all.csv\", index_col=0)\n",
    "df['sexist'] = df['sexist'].map({False:0,True:1})\n",
    "df['sexist']"
   ]
  },
  {
   "cell_type": "code",
   "execution_count": null,
   "id": "dc482d56-d028-4fd0-a867-63e18303ace5",
   "metadata": {},
   "outputs": [],
   "source": [
    "from sklearn.model_selection import train_test_split\n",
    "seed= 42\n",
    "train, test = train_test_split(df, test_size=0.2, stratify=df['sexist'], random_state=seed)"
   ]
  },
  {
   "cell_type": "code",
   "execution_count": null,
   "id": "475e62dc-6d9f-44d4-88e1-26d477932142",
   "metadata": {},
   "outputs": [],
   "source": [
    "test , val = train_test_split(test, test_size=0.5, stratify=test['sexist'], random_state=seed)"
   ]
  },
  {
   "cell_type": "code",
   "execution_count": null,
   "id": "e112f85b-06ff-417e-8bc0-db7ecc3b3140",
   "metadata": {},
   "outputs": [],
   "source": [
    "val"
   ]
  },
  {
   "cell_type": "code",
   "execution_count": null,
   "id": "2faa7600-f579-4a8a-a77c-d433bf03be1b",
   "metadata": {},
   "outputs": [],
   "source": [
    "val['sexist'].value_counts()"
   ]
  },
  {
   "cell_type": "code",
   "execution_count": null,
   "id": "6b4ace21-219f-45ee-b083-d0d2b778cbcb",
   "metadata": {},
   "outputs": [],
   "source": [
    "train.to_csv(\"datasets/cmsb/train.csv\")\n",
    "val.to_csv(\"datasets/cmsb/dev.csv\")\n",
    "test.to_csv(\"datasets/cmsb/test.csv\")    \n",
    " "
   ]
  },
  {
   "cell_type": "markdown",
   "id": "e7360923-9a17-42c3-8e7d-9e95136d9068",
   "metadata": {},
   "source": [
    "## Us election"
   ]
  },
  {
   "cell_type": "code",
   "execution_count": null,
   "id": "2122f480-1270-47f2-acea-ddbe4f681bc2",
   "metadata": {},
   "outputs": [],
   "source": [
    "import pandas as pd\n",
    "df_train = pd.read_csv('datasets/us_election_hate/train.tsv', sep='\\t')\n",
    "df_train\n",
    "df_test = pd.read_csv('datasets/us_election_hate/test.tsv', sep='\\t')\n"
   ]
  },
  {
   "cell_type": "code",
   "execution_count": null,
   "id": "ffa5b9d8-7fcc-49f5-a6b8-c53893185c8d",
   "metadata": {},
   "outputs": [],
   "source": [
    "df_train['HOF'].unique()"
   ]
  },
  {
   "cell_type": "code",
   "execution_count": null,
   "id": "b473c43d-24c5-4791-ac6e-0faed2bf1300",
   "metadata": {},
   "outputs": [],
   "source": [
    "df_train.rename(columns={'Trump':'trump', 'Biden':'biden', 'West':'west', 'HOF':'hof'}, inplace=True)\n",
    "df_test.rename(columns={'Trump':'trump', 'Biden':'biden', 'West':'west', 'HOF':'hof'}, inplace=True)\n"
   ]
  },
  {
   "cell_type": "code",
   "execution_count": null,
   "id": "3e8dc048-ae48-43c5-a2db-7e3e7aba07b0",
   "metadata": {},
   "outputs": [],
   "source": [
    "from sklearn.model_selection import train_test_split\n",
    "\n",
    "test, val = train_test_split(df_test, test_size=0.5, shuffle=True, random_state=42)\n",
    "test"
   ]
  },
  {
   "cell_type": "code",
   "execution_count": null,
   "id": "009e46f7-2f19-4881-808a-dc3e25659030",
   "metadata": {},
   "outputs": [],
   "source": [
    "test.to_csv('datasets/us_election_hate/test.csv')\n",
    "val.to_csv('datasets/us_election_hate/dev.csv')\n",
    "df_train.to_csv('datasets/us_election_hate/train.csv')"
   ]
  },
  {
   "cell_type": "markdown",
   "id": "1700cdfb-c44c-4922-bdc7-558730e7b85b",
   "metadata": {},
   "source": [
    "## dygen"
   ]
  },
  {
   "cell_type": "code",
   "execution_count": null,
   "id": "fbe7f32c-9518-43ff-9f9a-647276eb9604",
   "metadata": {},
   "outputs": [],
   "source": [
    "import pandas as pd\n",
    "df = pd.read_csv(\"datasets/dygen/all.csv\", index_col=0)\n",
    "df.head()"
   ]
  },
  {
   "cell_type": "code",
   "execution_count": null,
   "id": "08e8470b-5be8-4c8b-b73d-863dfd0443a6",
   "metadata": {},
   "outputs": [],
   "source": [
    "target_groups =   ['arab',\n",
    " 'asi',\n",
    " 'asi.chin',\n",
    " 'asi.east',\n",
    " 'asi.man',\n",
    " 'asi.pak',\n",
    " 'asi.south',\n",
    " 'asi.wom',\n",
    " 'asylum',\n",
    " 'bis',\n",
    " 'bla',\n",
    " 'bla.man',\n",
    " 'bla.wom',\n",
    " 'dis',\n",
    " 'eastern.europe',\n",
    " 'ethnic.minority',\n",
    " 'for',\n",
    " 'gay',\n",
    " 'gay.man',\n",
    " 'gay.wom',\n",
    " 'gendermin',\n",
    " 'hispanic',\n",
    " 'hitler',\n",
    " 'immig',\n",
    " 'indig',\n",
    " 'indig.wom',\n",
    " 'jew',\n",
    " 'label',\n",
    " 'level',\n",
    " 'lgbtq',\n",
    " 'mixed.race',\n",
    " 'mus',\n",
    " 'mus.wom',\n",
    " 'nazis',\n",
    " 'non.white',\n",
    " 'non.white.wom',\n",
    " 'none',\n",
    " 'notargetrecorded',\n",
    " 'notgiven',\n",
    " 'old.people',\n",
    " 'other.glorification',\n",
    " 'other.national',\n",
    " 'other.religion',\n",
    " 'pol',\n",
    " 'ref',\n",
    " 'round',\n",
    " 'round.base',\n",
    " 'russian',\n",
    " 'split',\n",
    " 'target',\n",
    " 'text',\n",
    " 'trans',\n",
    " 'trav',\n",
    " 'type',\n",
    " 'wc',\n",
    " 'wom']"
   ]
  },
  {
   "cell_type": "code",
   "execution_count": null,
   "id": "33542b47-7c7a-4f28-bedb-693c763d8df8",
   "metadata": {},
   "outputs": [],
   "source": [
    "df"
   ]
  },
  {
   "cell_type": "code",
   "execution_count": null,
   "id": "ab8b7bff-a120-45d6-a36f-2099ee915398",
   "metadata": {},
   "outputs": [],
   "source": [
    "df['target'] = df['target'].str.replace(r',\\s+', ',', regex=True)"
   ]
  },
  {
   "cell_type": "code",
   "execution_count": null,
   "id": "03dce6b8-d7b5-464b-a20a-9acc0de9a3f6",
   "metadata": {},
   "outputs": [],
   "source": [
    "# seperating the target column and making each target to a dummy variable\n",
    "df_tar = df.join(df['target'].str.strip().str.get_dummies(sep=','))\n",
    "df_tar.columns.to_list()\n",
    "# remove duplicates\n",
    "df_tar = df_tar.drop_duplicates(subset=['text'], keep='last')\n",
    "df_tar.shape\n"
   ]
  },
  {
   "cell_type": "code",
   "execution_count": null,
   "id": "8c6e4194-4500-4d61-8a2c-618db57ab87e",
   "metadata": {},
   "outputs": [],
   "source": [
    "for c in target_groups:\n",
    "    print(c, df_tar[c].value_counts(), '\\n\\n')"
   ]
  },
  {
   "cell_type": "code",
   "execution_count": null,
   "id": "1582b65b-0031-4d53-a352-3b039d1e683b",
   "metadata": {},
   "outputs": [],
   "source": [
    "df_tar.columns"
   ]
  },
  {
   "cell_type": "markdown",
   "id": "07d44034-c02b-4981-a98c-b5359813c7e1",
   "metadata": {},
   "source": [
    "### dygen for jutt binary hate "
   ]
  },
  {
   "cell_type": "code",
   "execution_count": null,
   "id": "0daf0acf-11b7-4364-8fe7-b4a780b82fc9",
   "metadata": {},
   "outputs": [],
   "source": [
    "df_hate = df_tar[['acl.id', 'X1', 'text', 'label', 'level', 'split',\n",
    "                  'round.base', 'annotator', 'round', 'acl.id.matched']]\n",
    "df_hate = df_hate.rename(columns={\"label\": 'hate'})\n",
    "df_hate['hate'] = df_hate['hate'].replace({\"hate\": 1, \"nothate\": 0})\n",
    "df_hate\n"
   ]
  },
  {
   "cell_type": "code",
   "execution_count": null,
   "id": "c9488e79-7446-411c-9f15-f30ddfdd9a29",
   "metadata": {},
   "outputs": [],
   "source": [
    "for split in ['train', 'test', 'dev']:\n",
    "    df_hate_split = df_hate[df_hate['split']==split]\n",
    "    print(df_hate_split.shape)\n",
    "    df_hate_split.to_csv(f'datasets/dygen_bin/{split}.csv')"
   ]
  },
  {
   "cell_type": "markdown",
   "id": "d9768cfb-9f79-4940-94ad-ed5a1fba5e9c",
   "metadata": {},
   "source": [
    "#### preparing the target and type tasks for this dataset (the first round of collection didn't have this info so have to exclude that data)"
   ]
  },
  {
   "cell_type": "code",
   "execution_count": null,
   "id": "0da6c084-a6ff-4731-9817-76f2e17cc35a",
   "metadata": {},
   "outputs": [],
   "source": [
    "df_type = df_tar[df_tar['round.base'] != 1]\n",
    "# df['type'].value_counts()\n",
    "df_type = df_type.join(\n",
    "    df_type['type'].str.strip().str.get_dummies(), lsuffix='_target')\n",
    "df_type.columns\n"
   ]
  },
  {
   "cell_type": "code",
   "execution_count": null,
   "id": "99787f27-8b78-412a-9a65-93eca8045407",
   "metadata": {},
   "outputs": [],
   "source": [
    "for split in ['train', 'test', 'dev']:\n",
    "    df_hate_split = df_type[df_type['split']==split]\n",
    "    print(df_hate_split.shape)\n",
    "    df_hate_split.to_csv(f'datasets/dygen_tar/{split}.csv')"
   ]
  },
  {
   "cell_type": "markdown",
   "id": "f0f8e408-b1c7-4842-9683-1066b8bb234c",
   "metadata": {},
   "source": [
    "### Hatecheck"
   ]
  },
  {
   "cell_type": "code",
   "execution_count": null,
   "id": "7fecbd94-3ce6-4933-a6ea-0472960ab7e4",
   "metadata": {},
   "outputs": [],
   "source": [
    "import pandas as pd\n",
    "\n",
    "df = pd.read_csv('datasets/hatecheck/all.csv', index_col=0)\n",
    "df\n"
   ]
  },
  {
   "cell_type": "code",
   "execution_count": null,
   "id": "dd03bf66-c717-4186-9fe9-10c5c48cfa44",
   "metadata": {},
   "outputs": [],
   "source": []
  },
  {
   "cell_type": "code",
   "execution_count": null,
   "id": "609ab793-0f6c-4e83-8b93-3d085b3ae041",
   "metadata": {},
   "outputs": [],
   "source": [
    "df['target_ident'].value_counts()"
   ]
  },
  {
   "cell_type": "code",
   "execution_count": null,
   "id": "959f7209-fc3c-4738-9b93-e4b6cb3e63af",
   "metadata": {},
   "outputs": [],
   "source": [
    "df_tar = df.join(df['target_ident'].str.strip().str.get_dummies())\n",
    "df_tar = df_tar.rename(\n",
    "    columns={'label_gold': 'hate', 'Muslims': 'muslims', 'black people': \"black\", \"disabled people\": \"disabled\",\n",
    "             \"gay people\": \"gay\", \"trans people\": \"trans\"})\n",
    "\n",
    "df_tar['hate'] = df_tar['hate'].replace({\"hateful\": 1, \"non-hateful\": 0})\n",
    "df_tar"
   ]
  },
  {
   "cell_type": "code",
   "execution_count": null,
   "id": "718134ad-7506-4edb-817a-73ca32cd9645",
   "metadata": {},
   "outputs": [],
   "source": [
    "from sklearn.model_selection import train_test_split\n",
    "seed = 42\n",
    "train, test = train_test_split(\n",
    "    df_tar, test_size=0.2, stratify=df_tar['hate'], random_state=seed)\n",
    "val, test = train_test_split(\n",
    "    test, test_size=0.5, stratify=test['hate'], random_state=seed)\n"
   ]
  },
  {
   "cell_type": "code",
   "execution_count": null,
   "id": "2e29479e-a6c8-4278-b0cd-5f31e6108283",
   "metadata": {},
   "outputs": [],
   "source": [
    "train.to_csv(\"datasets/hatecheck/train.csv\")\n",
    "val.to_csv(\"datasets/hatecheck/dev.csv\")\n",
    "test.to_csv(\"datasets/hatecheck/test.csv\")    \n",
    " "
   ]
  },
  {
   "cell_type": "code",
   "execution_count": null,
   "id": "4fc3345c-68a2-47b7-9e7d-e50fd6b367e5",
   "metadata": {},
   "outputs": [],
   "source": [
    "train.columns"
   ]
  },
  {
   "cell_type": "code",
   "execution_count": null,
   "id": "2aacb084-25aa-4f67-b013-b6b2dc127bb8",
   "metadata": {},
   "outputs": [],
   "source": [
    "test['hate'].value_counts()"
   ]
  },
  {
   "cell_type": "markdown",
   "id": "0e59e8b2-62dc-4fe8-8457-c8f831f36bcf",
   "metadata": {},
   "source": [
    "### Conan"
   ]
  },
  {
   "cell_type": "code",
   "execution_count": null,
   "id": "14f15563-5076-4471-bda3-24d18ec87fa7",
   "metadata": {},
   "outputs": [],
   "source": [
    "import pandas as pd\n",
    "df = pd.read_csv(\"datasets/conan/Multitarget-CONAN.csv\", index_col=0)\n",
    "df"
   ]
  },
  {
   "cell_type": "code",
   "execution_count": null,
   "id": "731f8c7f-e164-49cf-aba8-c1717b43a266",
   "metadata": {},
   "outputs": [],
   "source": [
    "df_tar = df.join(df['TARGET'].str.strip().str.get_dummies())\n",
    "df_tar"
   ]
  },
  {
   "cell_type": "code",
   "execution_count": null,
   "id": "a921ec5b-9547-4141-90cd-b0fb01b1e954",
   "metadata": {},
   "outputs": [],
   "source": [
    "df_tar = df_tar.rename(\n",
    "    columns={'LGBT+': 'lgbt', 'MUSLIMS': 'muslims', 'JEWS': \"jews\", \"DISABLED\": \"disabled\",\n",
    "             \"POC\": \"poc\", \"MIGRANTS\": \"migrant\", 'WOMEN':'woman'})"
   ]
  },
  {
   "cell_type": "code",
   "execution_count": null,
   "id": "3548cb1a-90f7-4871-8841-60dc441361d1",
   "metadata": {},
   "outputs": [],
   "source": [
    "from sklearn.model_selection import train_test_split\n",
    "\n",
    "train, val = train_test_split(\n",
    "    df_tar, test_size=0.2, stratify=df_tar['TARGET'], random_state=42)\n",
    "val, test = train_test_split(\n",
    "    val, test_size=0.5, stratify=val['TARGET'], random_state=42)\n"
   ]
  },
  {
   "cell_type": "code",
   "execution_count": null,
   "id": "cbbba72a-094d-4f17-bc76-fcff6f8bc410",
   "metadata": {},
   "outputs": [],
   "source": [
    "test.TARGET.value_counts()\n",
    "train.to_csv('datasets/conan/train.csv')\n",
    "val.to_csv('datasets/conan/dev.csv')\n",
    "test.to_csv('datasets/conan/test.csv')"
   ]
  },
  {
   "cell_type": "code",
   "execution_count": null,
   "id": "a30b523c-b04f-4424-a19c-96c88ca719f7",
   "metadata": {},
   "outputs": [],
   "source": [
    "train.shape"
   ]
  },
  {
   "cell_type": "markdown",
   "id": "20296235-820c-4d6c-b293-bcf91ee1166b",
   "metadata": {},
   "source": [
    "### Jigsaw"
   ]
  },
  {
   "cell_type": "code",
   "execution_count": null,
   "id": "2ba726dd-ce2e-4026-bb8f-30392a982907",
   "metadata": {},
   "outputs": [],
   "source": [
    "import pandas as pd\n",
    "df = pd.read_csv('datasets/jigsaw/train_raw.csv')\n",
    "df.head()"
   ]
  },
  {
   "cell_type": "code",
   "execution_count": null,
   "id": "f2d409e7-8072-41d4-a548-acbc829f8707",
   "metadata": {},
   "outputs": [],
   "source": [
    "df.columns\n",
    "df[df['female'].isna()]\n"
   ]
  },
  {
   "cell_type": "code",
   "execution_count": null,
   "id": "9e188c66-201a-46ec-ae69-723091958276",
   "metadata": {},
   "outputs": [],
   "source": [
    "def set_values(x):\n",
    "    if x >= 0.5:\n",
    "        return 1\n",
    "    elif x < 0.5:\n",
    "        return 0\n",
    "    else:\n",
    "        return x\n"
   ]
  },
  {
   "cell_type": "code",
   "execution_count": null,
   "id": "84ade9a3-bb5d-4c8d-a694-d9280a3b981b",
   "metadata": {},
   "outputs": [],
   "source": [
    "df[['target', 'severe_toxicity', 'obscene',\n",
    "    'identity_attack', 'insult', 'threat', 'asian', 'atheist', 'bisexual',\n",
    "    'black', 'buddhist', 'christian', 'female', 'heterosexual', 'hindu',\n",
    "    'homosexual_gay_or_lesbian', 'intellectual_or_learning_disability',\n",
    "    'jewish', 'latino', 'male', 'muslim', 'other_disability',\n",
    "    'other_gender', 'other_race_or_ethnicity', 'other_religion',\n",
    "    'other_sexual_orientation', 'physical_disability',\n",
    "    'psychiatric_or_mental_illness', 'transgender', 'white', 'sexual_explicit']] = df[['target', 'severe_toxicity', 'obscene',\n",
    "                                                                                       'identity_attack', 'insult', 'threat', 'asian', 'atheist', 'bisexual',\n",
    "                                                                                       'black', 'buddhist', 'christian', 'female', 'heterosexual', 'hindu',\n",
    "                                                                                       'homosexual_gay_or_lesbian', 'intellectual_or_learning_disability',\n",
    "                                                                                       'jewish', 'latino', 'male', 'muslim', 'other_disability',\n",
    "                                                                                       'other_gender', 'other_race_or_ethnicity', 'other_religion',\n",
    "                                                                                       'other_sexual_orientation', 'physical_disability',\n",
    "                                                                                       'psychiatric_or_mental_illness', 'transgender', 'white', 'sexual_explicit']].applymap(lambda x: set_values(x))\n",
    "                                                                                                                                                                   \n",
    "df = df.rename(columns={'target':'toxicity'})"
   ]
  },
  {
   "cell_type": "code",
   "execution_count": null,
   "id": "e0896aed-2778-469d-bf07-478ddd7715b7",
   "metadata": {},
   "outputs": [],
   "source": [
    "df['asian'].unique()"
   ]
  },
  {
   "cell_type": "code",
   "execution_count": null,
   "id": "d6ea83fe-21e5-4eb5-8924-848af775eb94",
   "metadata": {},
   "outputs": [],
   "source": [
    "df['severe_toxicity'].unique()"
   ]
  },
  {
   "cell_type": "code",
   "execution_count": null,
   "id": "e1f5ff3f-19b7-4760-be86-591f652faa6e",
   "metadata": {},
   "outputs": [],
   "source": [
    "df_test_pub = pd.read_csv('datasets/jigsaw/test_public_expanded.csv')\n",
    "df_test_pub.columns\n",
    "df_test_pub.shape\n",
    "df_test_pub[['toxicity', 'severe_toxicity', 'obscene',\n",
    "             'identity_attack', 'insult', 'threat', 'asian', 'atheist', 'bisexual',\n",
    "             'black', 'buddhist', 'christian', 'female', 'heterosexual', 'hindu',\n",
    "             'homosexual_gay_or_lesbian', 'intellectual_or_learning_disability',\n",
    "             'jewish', 'latino', 'male', 'muslim', 'other_disability',\n",
    "             'other_gender', 'other_race_or_ethnicity', 'other_religion',\n",
    "             'other_sexual_orientation', 'physical_disability',\n",
    "             'psychiatric_or_mental_illness', 'transgender', 'white', 'sexual_explicit']] = df_test_pub[['toxicity', 'severe_toxicity', 'obscene',\n",
    "                                                                                                         'identity_attack', 'insult', 'threat', 'asian', 'atheist', 'bisexual',\n",
    "                                                                                                         'black', 'buddhist', 'christian', 'female', 'heterosexual', 'hindu',\n",
    "                                                                                                         'homosexual_gay_or_lesbian', 'intellectual_or_learning_disability',\n",
    "                                                                                                         'jewish', 'latino', 'male', 'muslim', 'other_disability',\n",
    "                                                                                                         'other_gender', 'other_race_or_ethnicity', 'other_religion',\n",
    "                                                                                                         'other_sexual_orientation', 'physical_disability',\n",
    "                                                                                                         'psychiatric_or_mental_illness', 'transgender', 'white', 'sexual_explicit']].applymap(lambda x: set_values(x))\n",
    "\n",
    "df_test_pub['asian'].unique()\n"
   ]
  },
  {
   "cell_type": "code",
   "execution_count": null,
   "id": "234120db-d9b2-4a32-b0e5-c687fcf99288",
   "metadata": {},
   "outputs": [],
   "source": [
    "df_test_pv = pd.read_csv('datasets/jigsaw/test_private_expanded.csv')\n",
    "df_test_pv.columns\n",
    "df_test_pv[['toxicity','severe_toxicity', 'obscene',\n",
    "             'identity_attack', 'insult', 'threat', 'asian', 'atheist', 'bisexual',\n",
    "             'black', 'buddhist', 'christian', 'female', 'heterosexual', 'hindu',\n",
    "             'homosexual_gay_or_lesbian', 'intellectual_or_learning_disability',\n",
    "             'jewish', 'latino', 'male', 'muslim', 'other_disability',\n",
    "             'other_gender', 'other_race_or_ethnicity', 'other_religion',\n",
    "             'other_sexual_orientation', 'physical_disability',\n",
    "             'psychiatric_or_mental_illness', 'transgender', 'white', 'sexual_explicit']] = df_test_pv[['toxicity','severe_toxicity', 'obscene',\n",
    "                                                                                                         'identity_attack', 'insult', 'threat', 'asian', 'atheist', 'bisexual',\n",
    "                                                                                                         'black', 'buddhist', 'christian', 'female', 'heterosexual', 'hindu',\n",
    "                                                                                                         'homosexual_gay_or_lesbian', 'intellectual_or_learning_disability',\n",
    "                                                                                                         'jewish', 'latino', 'male', 'muslim', 'other_disability',\n",
    "                                                                                                         'other_gender', 'other_race_or_ethnicity', 'other_religion',\n",
    "                                                                                                         'other_sexual_orientation', 'physical_disability',\n",
    "                                                                                                         'psychiatric_or_mental_illness', 'transgender', 'white', 'sexual_explicit']].applymap(lambda x:  set_values(x))\n"
   ]
  },
  {
   "cell_type": "code",
   "execution_count": null,
   "id": "c8233540-5f96-4d48-94a6-488320c30c6c",
   "metadata": {},
   "outputs": [],
   "source": [
    "df_test_pv['asian'].unique()"
   ]
  },
  {
   "cell_type": "code",
   "execution_count": null,
   "id": "b51bd242-4f62-4e7f-8a39-cfa3e06eeef6",
   "metadata": {},
   "outputs": [],
   "source": [
    "df_test_pub[df_test_pub.duplicated(subset='comment_text')].sort_values(by='comment_text')\n",
    "# df_test_pub[df_test_pub['id']==7015021]['comment_text'].values\n"
   ]
  },
  {
   "cell_type": "code",
   "execution_count": null,
   "id": "66c3a774-7d6f-4fc8-a6cd-7d0991301aca",
   "metadata": {},
   "outputs": [],
   "source": [
    "df.to_csv('datasets/jigsaw/train_new.csv')\n",
    "df_test_pub.to_csv('datasets/jigsaw/dev.csv')\n",
    "df_test_pv.to_csv('datasets/jigsaw/test.csv')"
   ]
  },
  {
   "cell_type": "code",
   "execution_count": null,
   "id": "ee3bf76c-70dc-4652-badd-790dfd1aca6b",
   "metadata": {},
   "outputs": [],
   "source": [
    "df.dropna(subset='female')['female'].unique()"
   ]
  },
  {
   "cell_type": "code",
   "execution_count": null,
   "id": "2b12ddab-bd31-4c45-a3d3-fe24cceee046",
   "metadata": {},
   "outputs": [],
   "source": [
    "df['target'].max()"
   ]
  },
  {
   "cell_type": "code",
   "execution_count": null,
   "id": "6afe9ec8-21ba-416c-89c9-69c36135e884",
   "metadata": {},
   "outputs": [],
   "source": [
    "df.columns"
   ]
  },
  {
   "cell_type": "code",
   "execution_count": null,
   "id": "3eadb4db-3c2e-404d-840a-8d750132e143",
   "metadata": {},
   "outputs": [],
   "source": [
    "df_test_pub[df_test_pub['female']==1][['toxicity', 'female']]"
   ]
  },
  {
   "cell_type": "code",
   "execution_count": null,
   "id": "5907fee6-a1fe-4060-82c3-a72436cf4e79",
   "metadata": {},
   "outputs": [],
   "source": []
  }
 ],
 "metadata": {
  "kernelspec": {
   "display_name": "cjig_env",
   "language": "python",
   "name": "cjig_env"
  },
  "language_info": {
   "codemirror_mode": {
    "name": "ipython",
    "version": 3
   },
   "file_extension": ".py",
   "mimetype": "text/x-python",
   "name": "python",
   "nbconvert_exporter": "python",
   "pygments_lexer": "ipython3",
   "version": "3.8.5"
  }
 },
 "nbformat": 4,
 "nbformat_minor": 5
}
