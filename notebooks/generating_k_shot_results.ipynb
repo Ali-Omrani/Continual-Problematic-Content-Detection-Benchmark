{
 "cells": [
  {
   "cell_type": "code",
   "execution_count": 1,
   "id": "900117b6",
   "metadata": {},
   "outputs": [],
   "source": [
    "%load_ext autoreload\n",
    "%autoreload 2\n"
   ]
  },
  {
   "cell_type": "code",
   "execution_count": 2,
   "id": "ccbe15f2",
   "metadata": {
    "tags": []
   },
   "outputs": [],
   "source": [
    "import sys\n",
    "sys.path.append(\"../utils/\")\n",
    "sys.path.append(\"../\")"
   ]
  },
  {
   "cell_type": "code",
   "execution_count": 3,
   "id": "1664450b",
   "metadata": {
    "tags": []
   },
   "outputs": [],
   "source": [
    "import seaborn as sns\n",
    "import matplotlib.pyplot as plt\n",
    "\n",
    "import metrics\n",
    "from agg_crossfit_results import *"
   ]
  },
  {
   "cell_type": "code",
   "execution_count": 4,
   "id": "4ab2d682",
   "metadata": {
    "tags": []
   },
   "outputs": [],
   "source": [
    "pd.set_option('display.max_rows', 500)\n"
   ]
  },
  {
   "cell_type": "code",
   "execution_count": 5,
   "id": "0877cacd",
   "metadata": {
    "tags": []
   },
   "outputs": [],
   "source": [
    "set_name = 'third_set'\n",
    "metrics_type = 'auc'\n",
    "base_dir=\"../runs/pretrained/1e-4/0/\"\n",
    "model_mapping = {\n",
    "    'BART-Single': 1,\n",
    "    'BART-Adapter-Single': 2,\n",
    "    'BART-BiHNet-Single': 3,\n",
    "    'BART-Adapter-Vanilla':4, \n",
    "    'BART-BiHNet+Vanilla':5,\n",
    "    'BART-BiHNet+Reg':6,\n",
    "    'BART-BiHNet+EWC':7,\n",
    "    'BART-Adapter-Multitask':8,\n",
    "    'BART-BiHNet-Multitask':9}"
   ]
  },
  {
   "cell_type": "markdown",
   "id": "005e3042",
   "metadata": {},
   "source": [
    "# Few shot"
   ]
  },
  {
   "cell_type": "code",
   "execution_count": 6,
   "id": "ede201cc",
   "metadata": {},
   "outputs": [],
   "source": [
    "dir_dict = {\"BART-BiHNet+Reg\":f\"../runs/BiHNet_Reg_{set_name}_0.01_s64_d256_limit/1e-4/0/\",\n",
    "            \"BART-BiHNet+EWC\":f\"../runs/BiHNet_ewc_{set_name}_0.01_s64_d256_limit/1e-4/0/\",\n",
    "            \"BART-Adapter-Multitask\": f\"../runs/adpter_mtl_{set_name}_0.01_s64_d256_limit/1e-4/0/\",\n",
    "            \"BART-BiHNet-Multitask\": f\"../runs/mtl_hnet_{set_name}_0.01_s64_d256_limit/1e-4/0/\",\n",
    "            \"BART-Adapter-Vanilla\": f\"../runs/adapter_vanilla_{set_name}_0.01_s64_d256_limit/1e-4/0/\",\n",
    "            \"BART-BiHNet+Vanilla\": f\"../runs/BiHNet_vanilla_{set_name}_0.01_s64_d256_limit/1e-4/0/\",\n",
    "#             \"BART-Single\": f\"../runs/single_{set_name}_fs_0.01_s64_d256_limit/1e-4/0/\",\n",
    "#             \"BART-Adapter-Single\": f\"../runs/adapter_single_{set_name}_fs_0.01_s64_d256_limit/1e-4/0/\",\n",
    "#             \"BART-BiHNet-Single\": f\"../runs/BiHNet_single_{set_name}_fs_0.01_s64_d256_limit/1e-4/0/\",\n",
    "           }"
   ]
  },
  {
   "cell_type": "code",
   "execution_count": 7,
   "id": "69195f46",
   "metadata": {
    "tags": []
   },
   "outputs": [],
   "source": [
    "def get_fs_df(dir_dict, metrics_type, k=16):\n",
    "    postfix = f\"_naive_{k}shot\"\n",
    "    dfs = []\n",
    "    for alg in dir_dict:\n",
    "        print(alg)\n",
    "        for with_dash in [True, False]:\n",
    "            df =  make_few_shot_result_table(dir_dict[alg], postfix=postfix, metrics_type=metrics_type, with_dash=with_dash)\n",
    "            if df.empty:\n",
    "                print(\"df\", df)\n",
    "                print(alg, with_dash, \"hereeee\")\n",
    "                continue\n",
    "            if \"task_detail\" in df.columns:\n",
    "                df = pd.DataFrame(df.groupby([\"task_name\", \"task_detail\"])[metrics_type].max()).reset_index()\n",
    "            else:\n",
    "                df = pd.DataFrame(df.groupby([\"task_name\"])[metrics_type].max()).reset_index()\n",
    "            df[\"alg\"] = alg\n",
    "            df['k'] = k\n",
    "            dfs.append(df)\n",
    "    all_fs_df = pd.concat(dfs)\n",
    "    all_fs_df = all_fs_df[[metrics_type, \"task_name\", \"task_detail\",  \"alg\", \"k\"]]\n",
    "    all_fs_df = all_fs_df.rename(columns={metrics_type: f'few-shot-{metrics_type}', \n",
    "                                                      'alg': 'model', \n",
    "                                                      'task_name': 'dataset', \n",
    "                                                      'task_detail': 'task'})\n",
    "    return all_fs_df"
   ]
  },
  {
   "cell_type": "code",
   "execution_count": 8,
   "id": "4393f543",
   "metadata": {
    "scrolled": true
   },
   "outputs": [
    {
     "name": "stdout",
     "output_type": "stream",
     "text": [
      "BART-BiHNet+Reg\n",
      "results_task_(\\d+)_(\\w+)_task_(\\d+)_step_([\\d]+)_fewshot_at_-1_naive_8shot.csv\n",
      "BART-BiHNet+EWC\n",
      "results_task_(\\d+)_(\\w+)_task_(\\d+)_step_([\\d]+)_fewshot_at_-1_naive_8shot.csv\n",
      "BART-Adapter-Multitask\n",
      "results_task_(\\d+)_(\\w+)_task_(\\d+)_step_([\\d]+)_fewshot_at_-1_naive_8shot.csv\n",
      "BART-BiHNet-Multitask\n",
      "results_task_(\\d+)_(\\w+)_task_(\\d+)_step_([\\d]+)_fewshot_at_-1_naive_8shot.csv\n",
      "BART-Adapter-Vanilla\n",
      "results_task_(\\d+)_(\\w+)_task_(\\d+)_step_([\\d]+)_fewshot_at_-1_naive_8shot.csv\n",
      "BART-BiHNet+Vanilla\n",
      "results_task_(\\d+)_(\\w+)_task_(\\d+)_step_([\\d]+)_fewshot_at_-1_naive_8shot.csv\n",
      "BART-BiHNet+Reg\n",
      "results_task_(\\d+)_(\\w+)_task_(\\d+)_step_([\\d]+)_fewshot_at_-1_naive_8shot.csv\n",
      "BART-BiHNet+EWC\n",
      "results_task_(\\d+)_(\\w+)_task_(\\d+)_step_([\\d]+)_fewshot_at_-1_naive_8shot.csv\n",
      "BART-Adapter-Multitask\n",
      "results_task_(\\d+)_(\\w+)_task_(\\d+)_step_([\\d]+)_fewshot_at_-1_naive_8shot.csv\n",
      "BART-BiHNet-Multitask\n",
      "results_task_(\\d+)_(\\w+)_task_(\\d+)_step_([\\d]+)_fewshot_at_-1_naive_8shot.csv\n",
      "BART-Adapter-Vanilla\n",
      "results_task_(\\d+)_(\\w+)_task_(\\d+)_step_([\\d]+)_fewshot_at_-1_naive_8shot.csv\n",
      "BART-BiHNet+Vanilla\n",
      "results_task_(\\d+)_(\\w+)_task_(\\d+)_step_([\\d]+)_fewshot_at_-1_naive_8shot.csv\n",
      "BART-BiHNet+Reg\n",
      "results_task_(\\d+)_(\\w+)_task_(\\d+)_step_([\\d]+)_fewshot_at_-1_naive_16shot.csv\n",
      "BART-BiHNet+EWC\n",
      "results_task_(\\d+)_(\\w+)_task_(\\d+)_step_([\\d]+)_fewshot_at_-1_naive_16shot.csv\n",
      "BART-Adapter-Multitask\n",
      "results_task_(\\d+)_(\\w+)_task_(\\d+)_step_([\\d]+)_fewshot_at_-1_naive_16shot.csv\n",
      "BART-BiHNet-Multitask\n",
      "results_task_(\\d+)_(\\w+)_task_(\\d+)_step_([\\d]+)_fewshot_at_-1_naive_16shot.csv\n",
      "BART-Adapter-Vanilla\n",
      "results_task_(\\d+)_(\\w+)_task_(\\d+)_step_([\\d]+)_fewshot_at_-1_naive_16shot.csv\n",
      "BART-BiHNet+Vanilla\n",
      "results_task_(\\d+)_(\\w+)_task_(\\d+)_step_([\\d]+)_fewshot_at_-1_naive_16shot.csv\n",
      "BART-BiHNet+Reg\n",
      "results_task_(\\d+)_(\\w+)_task_(\\d+)_step_([\\d]+)_fewshot_at_-1_naive_16shot.csv\n",
      "BART-BiHNet+EWC\n",
      "results_task_(\\d+)_(\\w+)_task_(\\d+)_step_([\\d]+)_fewshot_at_-1_naive_16shot.csv\n",
      "BART-Adapter-Multitask\n",
      "results_task_(\\d+)_(\\w+)_task_(\\d+)_step_([\\d]+)_fewshot_at_-1_naive_16shot.csv\n",
      "BART-BiHNet-Multitask\n",
      "results_task_(\\d+)_(\\w+)_task_(\\d+)_step_([\\d]+)_fewshot_at_-1_naive_16shot.csv\n",
      "BART-Adapter-Vanilla\n",
      "results_task_(\\d+)_(\\w+)_task_(\\d+)_step_([\\d]+)_fewshot_at_-1_naive_16shot.csv\n",
      "BART-BiHNet+Vanilla\n",
      "results_task_(\\d+)_(\\w+)_task_(\\d+)_step_([\\d]+)_fewshot_at_-1_naive_16shot.csv\n",
      "BART-BiHNet+Reg\n",
      "results_task_(\\d+)_(\\w+)_task_(\\d+)_step_([\\d]+)_fewshot_at_-1_naive_32shot.csv\n",
      "BART-BiHNet+EWC\n",
      "results_task_(\\d+)_(\\w+)_task_(\\d+)_step_([\\d]+)_fewshot_at_-1_naive_32shot.csv\n",
      "BART-Adapter-Multitask\n",
      "results_task_(\\d+)_(\\w+)_task_(\\d+)_step_([\\d]+)_fewshot_at_-1_naive_32shot.csv\n",
      "BART-BiHNet-Multitask\n",
      "results_task_(\\d+)_(\\w+)_task_(\\d+)_step_([\\d]+)_fewshot_at_-1_naive_32shot.csv\n",
      "BART-Adapter-Vanilla\n",
      "results_task_(\\d+)_(\\w+)_task_(\\d+)_step_([\\d]+)_fewshot_at_-1_naive_32shot.csv\n",
      "BART-BiHNet+Vanilla\n",
      "results_task_(\\d+)_(\\w+)_task_(\\d+)_step_([\\d]+)_fewshot_at_-1_naive_32shot.csv\n",
      "BART-BiHNet+Reg\n",
      "results_task_(\\d+)_(\\w+)_task_(\\d+)_step_([\\d]+)_fewshot_at_-1_naive_32shot.csv\n",
      "BART-BiHNet+EWC\n",
      "results_task_(\\d+)_(\\w+)_task_(\\d+)_step_([\\d]+)_fewshot_at_-1_naive_32shot.csv\n",
      "BART-Adapter-Multitask\n",
      "results_task_(\\d+)_(\\w+)_task_(\\d+)_step_([\\d]+)_fewshot_at_-1_naive_32shot.csv\n",
      "BART-BiHNet-Multitask\n",
      "results_task_(\\d+)_(\\w+)_task_(\\d+)_step_([\\d]+)_fewshot_at_-1_naive_32shot.csv\n",
      "BART-Adapter-Vanilla\n",
      "results_task_(\\d+)_(\\w+)_task_(\\d+)_step_([\\d]+)_fewshot_at_-1_naive_32shot.csv\n",
      "BART-BiHNet+Vanilla\n",
      "results_task_(\\d+)_(\\w+)_task_(\\d+)_step_([\\d]+)_fewshot_at_-1_naive_32shot.csv\n"
     ]
    }
   ],
   "source": [
    "all_fs_df = []\n",
    "for k in [\"8\", \"16\", \"32\"]:\n",
    "    fs_auc_df = get_fs_df(dir_dict, metrics_type='auc', k=k)\n",
    "    fs_f1_df = get_fs_df(dir_dict, metrics_type='f1', k=k)\n",
    "    fs_df = fs_f1_df.merge(fs_auc_df, on=['model', 'dataset', 'task', \"k\"])\n",
    "    all_fs_df.append(fs_df)\n",
    "all_fs_df = pd.concat(all_fs_df)"
   ]
  },
  {
   "cell_type": "code",
   "execution_count": 9,
   "id": "7051afed",
   "metadata": {},
   "outputs": [],
   "source": [
    "fs_agg = all_fs_df.groupby([\"model\", \"k\"], as_index=False).aggregate({'few-shot-auc':'mean','few-shot-f1':\"mean\"})"
   ]
  },
  {
   "cell_type": "code",
   "execution_count": 10,
   "id": "191ad102",
   "metadata": {},
   "outputs": [],
   "source": [
    "fs_agg['k'] = fs_agg['k'].astype(int)"
   ]
  },
  {
   "cell_type": "code",
   "execution_count": 12,
   "id": "4b15b7f4",
   "metadata": {},
   "outputs": [
    {
     "data": {
      "image/png": "[encoded data removed]",
      "text/plain": [
       "<Figure size 1080x576 with 1 Axes>"
      ]
     },
     "metadata": {},
     "output_type": "display_data"
    }
   ],
   "source": [
    "sns.set(rc={'figure.figsize':(15,8)})\n",
    "hue_order = ['BART-Adapter-Vanilla', 'BART-BiHNet+Vanilla', 'BART-BiHNet+Reg', 'BART-BiHNet+EWC',\n",
    "             'BART-Adapter-Multitask', 'BART-BiHNet-Multitask']\n",
    "g = sns.barplot(x=\"k\", y=\"few-shot-auc\", hue=\"model\", data=fs_agg, \n",
    "            hue_order=hue_order, palette='colorblind')\n",
    "\n",
    "plt.legend(loc='lower right')\n",
    "plt.ylabel(\"AUC\")\n",
    "plt.xlabel(\"Number of shots (K)\")\n",
    "plt.savefig(\"auc_kshot.jpg\")"
   ]
  },
  {
   "cell_type": "code",
   "execution_count": null,
   "id": "43c84291",
   "metadata": {},
   "outputs": [],
   "source": []
  }
 ],
 "metadata": {
  "kernelspec": {
   "display_name": "nlp",
   "language": "python",
   "name": "nlp"
  },
  "language_info": {
   "codemirror_mode": {
    "name": "ipython",
    "version": 3
   },
   "file_extension": ".py",
   "mimetype": "text/x-python",
   "name": "python",
   "nbconvert_exporter": "python",
   "pygments_lexer": "ipython3",
   "version": "3.10.6"
  }
 },
 "nbformat": 4,
 "nbformat_minor": 5
}
